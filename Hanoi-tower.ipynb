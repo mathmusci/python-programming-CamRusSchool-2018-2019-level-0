{
 "cells": [
  {
   "cell_type": "markdown",
   "metadata": {},
   "source": [
    "# Online games"
   ]
  },
  {
   "cell_type": "markdown",
   "metadata": {},
   "source": [
    "* KAERU JUMP (frog jumps): http://www.kidsmathgamesonline.com/problemsolving/frogjump.html\n",
    "* https://www.igraemsa.ru/igry-dlja-detej/igry-na-logiku-i-myshlenie/igra-zabor\n",
    "* http://mypuzzle.org/light-bot\n",
    "* http://www.abcya.com/lightbot.htm\n",
    "* https://www.lemoda.net/javascript/flood-it/game.html\n",
    "* Ханойская башня - Hanoi Tower: http://igroflot.ru/logic/flash_game_206/\n",
    "* logic games: http://igroflot.ru/logic/\n",
    " "
   ]
  },
  {
   "cell_type": "markdown",
   "metadata": {},
   "source": [
    " "
   ]
  },
  {
   "cell_type": "markdown",
   "metadata": {},
   "source": [
    "# Урок \"Ханойская башня\"\n",
    "\n",
    "В течение урока мы узнаём историю игры и ее правила. Мы начинаем решать эту головоломку с 3, а затем с 4 кольцами. \n",
    "\n",
    "В головоломке \"Ханойская башня\" конусообразная башня из колец надетых на один из трех стержней необходимо переместить на один из двух других свободных стержней. При этом за один шаг можно переместить только одно кольцо, а кольцо большего размера никогда не должно лежать на кольце меньшего размера.\n",
    "\n",
    "Ребята должны легко справиться с этой головоломкой для трех и четырех колец. Головоломка хороша тем, что позволяет обсуждать вопросы оптимальной стратегии, алгоритма действий, наблюдения за свойствами решения для малого числа колец и числа шагов, которое заведомо достаточно для решения головоломки для башень большего размера, без указания самого решения (которое может занять много времени). К концу занятия дети смогут подсчитать число шагов в решении к головоломке для башень из 5, 6, 7, 8, 9 и 10 колец."
   ]
  },
  {
   "cell_type": "markdown",
   "metadata": {},
   "source": [
    "# Урок \"Лабиринты\""
   ]
  },
  {
   "cell_type": "code",
   "execution_count": null,
   "metadata": {},
   "outputs": [],
   "source": []
  }
 ],
 "metadata": {
  "kernelspec": {
   "display_name": "Python 2",
   "language": "python",
   "name": "python2"
  },
  "language_info": {
   "codemirror_mode": {
    "name": "ipython",
    "version": 2
   },
   "file_extension": ".py",
   "mimetype": "text/x-python",
   "name": "python",
   "nbconvert_exporter": "python",
   "pygments_lexer": "ipython2",
   "version": "2.7.15"
  }
 },
 "nbformat": 4,
 "nbformat_minor": 2
}
