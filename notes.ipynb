{
 "cells": [
  {
   "cell_type": "markdown",
   "metadata": {},
   "source": [
    "# Online games"
   ]
  },
  {
   "cell_type": "markdown",
   "metadata": {},
   "source": [
    "* KAERU JUMP (frog jumps): http://www.kidsmathgamesonline.com/problemsolving/frogjump.html\n",
    "* https://www.igraemsa.ru/igry-dlja-detej/igry-na-logiku-i-myshlenie/igra-zabor\n",
    "* http://mypuzzle.org/light-bot\n",
    "* http://www.abcya.com/lightbot.htm\n",
    "* https://www.lemoda.net/javascript/flood-it/game.html\n",
    "* Ханойская башня - Hanoi Tower: http://igroflot.ru/logic/flash_game_206/\n",
    "* лабиринты: http://www.mazes.ws/\n",
    "* logic games: http://igroflot.ru/logic/\n",
    "\n",
    " "
   ]
  },
  {
   "cell_type": "markdown",
   "metadata": {},
   "source": [
    " "
   ]
  }
 ],
 "metadata": {
  "kernelspec": {
   "display_name": "Python 2",
   "language": "python",
   "name": "python2"
  },
  "language_info": {
   "codemirror_mode": {
    "name": "ipython",
    "version": 2
   },
   "file_extension": ".py",
   "mimetype": "text/x-python",
   "name": "python",
   "nbconvert_exporter": "python",
   "pygments_lexer": "ipython2",
   "version": "2.7.15"
  }
 },
 "nbformat": 4,
 "nbformat_minor": 2
}
