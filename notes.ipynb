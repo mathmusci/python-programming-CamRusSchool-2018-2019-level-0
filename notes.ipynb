{
 "cells": [
  {
   "cell_type": "markdown",
   "metadata": {},
   "source": [
    "# Online games"
   ]
  },
  {
   "cell_type": "markdown",
   "metadata": {},
   "source": [
    "* KAERU JUMP (frog jumps): http://www.kidsmathgamesonline.com/problemsolving/frogjump.html\n",
    "* https://www.igraemsa.ru/igry-dlja-detej/igry-na-logiku-i-myshlenie/igra-zabor\n",
    "* http://mypuzzle.org/light-bot\n",
    "* http://www.abcya.com/lightbot.htm\n",
    "* https://www.lemoda.net/javascript/flood-it/game.html\n",
    "* Ханойская башня - Hanoi Tower: http://igroflot.ru/logic/flash_game_206/\n",
    "* лабиринты: http://www.mazes.ws/, http://www.mazegenerator.net/Default.aspx\n",
    "* logic games: http://igroflot.ru/logic/\n",
    "\n",
    " "
   ]
  },
  {
   "cell_type": "markdown",
   "metadata": {},
   "source": [
    "# Resources to explore"
   ]
  },
  {
   "cell_type": "markdown",
   "metadata": {},
   "source": [
    "* KOHCTPYKTOP: ENGINEER OF THE PEOPLE: http://www.zachtronics.com/kohctpyktop-engineer-of-the-people/\n",
    "* SHENZHEN_IO: https://store.steampowered.com/app/504210/SHENZHEN_IO/ and http://www.zachtronics.com/shenzhen-io/\n",
    "* RoboZZle (a social puzzle game): http://www.robozzle.com/beta/index.html\n",
    "* Python Challenge: http://www.pythonchallenge.com/\n",
    "* Make your own games by learning JavaScript programming!: http://jsdares.com/\n",
    "* Kogics (play hard learn hard): http://kogics.net/\n",
    "* Ruby Monk (learn Ruby): https://rubymonk.com/\n",
    "* Ruby Warrior: https://www.bloc.io/ruby-warrior#/\n",
    "* Code Combat: https://codecombat.com/\n",
    "* Scratch: https://scratch.mit.edu/\n",
    "* Kodu (a language and environment for programming 3D games): https://www.microsoft.com/en-us/research/project/kodu/\n",
    "* Code Kingdoms (learning JavaScript): https://codekingdoms.com/\n",
    "* MMO sandbox game for programmers: https://screeps.com/\n",
    "* Space Engineers: http://spaceengineers.ru/\n",
    "* Codingame (support of multiple languages): https://www.codingame.com/start\n",
    "* Kodable (JS): https://game.kodable.com/\n",
    "* CoffeeScript: https://www.playcodemonkey.com/#\n",
    "* CheckiO (JS and Python): https://checkio.org/\n",
    "* GitGame: https://github.com/git-game/\n",
    "* Code.org: https://code.org/\n",
    "* http://lightbot.com/\n",
    "* Cargo-Bot: https://itunes.apple.com/ru/app/cargo-bot/id519690804\n",
    "* Ceebot (C, C++ and Java): http://www.ceebot.com/ceebot/index-e.php\n",
    "* PiktoMir: https://piktomir.ru/\n",
    "* SpaceChem: http://www.zachtronics.com/spacechem/\n",
    "* Uplink (hacking): https://www.introversion.co.uk/uplink/about.html\n",
    "* Code Rally (AI): https://www.ibm.com/developerworks/community/blogs/code-rally/entry/play-code-rally?lang=ru\n",
    "* Robot Odyssey. Эта игра вышла в 1984 году, но не зря носит неофициальный титул самой сложной компьютерной игры всех времен. По словам программиста из Нью-Йорка Девида Ауэрбаха, на прохождение этой игры ему понадобилось 13 лет и она во многом определила его будущее как программиста. Его яркие воспоминания об игре можно почитать на английском (в оригинале) или в переводе на русский. Игра предлагает несколько уровней сложности, некоторые пройти практически невозможно – количество людей, которые прошли игру до конца, в мире измеряется десятками. https://habr.com/post/210334/ https://slate.com/technology/2014/01/robot-odyssey-the-hardest-computer-game-of-all-time.html and https://www.google.com/search?client=firefox-b-ab&q=Robot+Odyssey and https://www.robotodyssey.online/\n",
    "* Bug Brain (Neural Networks): http://www.biologic.com.au/bugbrain/\n",
    "* Colobot: https://colobot.info/\n",
    "* TIS-100 (low level concurrent programming): http://www.zachtronics.com/tis-100/\n",
    "* Flexbox Defense (CSS): http://www.flexboxdefense.com/\n",
    "* FlukeOut (CSS): https://flukeout.github.io/\n",
    "* Pixact.ly: http://pixact.ly/\n",
    "* Flexbox Froggy: http://flexboxfroggy.com/\n",
    "* Hex Invaders: http://www.hexinvaders.com/\n",
    "* Hacker.org: http://www.hacker.org/\n",
    "* Code Wars: https://www.codewars.com/\n",
    "* Elevator Saga The elevator programming game: http://play.elevatorsaga.com/\n",
    "* Fight Code: http://beta.fightcodegame.com/\n",
    "* Cyber-DoJo: https://www.cyber-dojo.org/\n",
    "* Robocode: https://robocode.sourceforge.io/\n",
    "* Dungeons and developers: http://www.dungeonsanddevelopers.com/\n",
    "* Untrusted: https://alexnisnevich.github.io/untrusted/\n",
    "* Blockly: https://blockly-games.appspot.com/?lang=ru\n",
    "* Hour of Code: https://code.org/\n",
    "* [!] Human Resource Machine: link to be identified\n",
    "* Infinifactory\n",
    "* MHRD\n",
    "* Hack'n'Slash\n",
    "* Dwarf Fortress"
   ]
  },
  {
   "cell_type": "code",
   "execution_count": null,
   "metadata": {},
   "outputs": [],
   "source": []
  }
 ],
 "metadata": {
  "kernelspec": {
   "display_name": "Python 2",
   "language": "python",
   "name": "python2"
  },
  "language_info": {
   "codemirror_mode": {
    "name": "ipython",
    "version": 2
   },
   "file_extension": ".py",
   "mimetype": "text/x-python",
   "name": "python",
   "nbconvert_exporter": "python",
   "pygments_lexer": "ipython2",
   "version": "2.7.15"
  }
 },
 "nbformat": 4,
 "nbformat_minor": 2
}
