{
 "cells": [
  {
   "cell_type": "markdown",
   "metadata": {},
   "source": [
    "# Online games"
   ]
  },
  {
   "cell_type": "markdown",
   "metadata": {},
   "source": [
    "* KAERU JUMP (frog jumps): http://www.kidsmathgamesonline.com/problemsolving/frogjump.html\n",
    "* https://www.igraemsa.ru/igry-dlja-detej/igry-na-logiku-i-myshlenie/igra-zabor\n",
    "* http://mypuzzle.org/light-bot\n",
    "* http://www.abcya.com/lightbot.htm\n",
    "* https://www.lemoda.net/javascript/flood-it/game.html\n",
    " "
   ]
  },
  {
   "cell_type": "code",
   "execution_count": null,
   "metadata": {},
   "outputs": [],
   "source": []
  }
 ],
 "metadata": {
  "kernelspec": {
   "display_name": "Python 2",
   "language": "python",
   "name": "python2"
  },
  "language_info": {
   "codemirror_mode": {
    "name": "ipython",
    "version": 2
   },
   "file_extension": ".py",
   "mimetype": "text/x-python",
   "name": "python",
   "nbconvert_exporter": "python",
   "pygments_lexer": "ipython2",
   "version": "2.7.15"
  }
 },
 "nbformat": 4,
 "nbformat_minor": 2
}
